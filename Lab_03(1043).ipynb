{
  "nbformat": 4,
  "nbformat_minor": 0,
  "metadata": {
    "colab": {
      "provenance": [],
      "include_colab_link": true
    },
    "kernelspec": {
      "name": "python3",
      "display_name": "Python 3"
    },
    "language_info": {
      "name": "python"
    }
  },
  "cells": [
    {
      "cell_type": "markdown",
      "metadata": {
        "id": "view-in-github",
        "colab_type": "text"
      },
      "source": [
        "<a href=\"https://colab.research.google.com/github/2303a51043/Batch1_PFDS_1043/blob/main/Lab_03(1043).ipynb\" target=\"_parent\"><img src=\"https://colab.research.google.com/assets/colab-badge.svg\" alt=\"Open In Colab\"/></a>"
      ]
    },
    {
      "cell_type": "code",
      "execution_count": null,
      "metadata": {
        "colab": {
          "base_uri": "https://localhost:8080/"
        },
        "id": "FfE_vA1whiqa",
        "outputId": "6cb8f9cf-0d6e-4b35-be8b-51d244a8b017"
      },
      "outputs": [
        {
          "output_type": "stream",
          "name": "stdout",
          "text": [
            "Test Scores (4x4):\n",
            " [[ 63  95  69 100]\n",
            " [ 93  52  71  99]\n",
            " [ 97  69  61  92]\n",
            " [ 56  53  85  54]]\n",
            "\n",
            "Row-wise Means: [81.75 78.75 79.75 62.  ]\n",
            "Column-wise Means: [77.25 67.25 71.5  86.25]\n",
            "\n",
            "Standard Deviation: 17.74\n",
            "Variance: 314.75\n",
            "\n",
            "Global Max: 100 at index (np.int64(0), np.int64(3))\n",
            "Global Min: 52 at index (np.int64(1), np.int64(1))\n"
          ]
        }
      ],
      "source": [
        "import numpy as np\n",
        "\n",
        "scores = np.random.randint(50, 101, size=(4, 4))\n",
        "\n",
        "row_means = np.mean(scores, axis=1)\n",
        "col_means = np.mean(scores, axis=0)\n",
        "\n",
        "std_dev = np.std(scores)\n",
        "variance = np.var(scores)\n",
        "\n",
        "global_max = np.max(scores)\n",
        "global_min = np.min(scores)\n",
        "\n",
        "max_index = np.unravel_index(np.argmax(scores), scores.shape)\n",
        "min_index = np.unravel_index(np.argmin(scores), scores.shape)\n",
        "\n",
        "print(\"Test Scores (4x4):\\n\", scores)\n",
        "\n",
        "print(\"\\nRow-wise Means:\", row_means)\n",
        "print(\"Column-wise Means:\", col_means)\n",
        "\n",
        "print(\"\\nStandard Deviation:\", round(std_dev, 2))\n",
        "print(\"Variance:\", round(variance, 2))\n",
        "\n",
        "print(\"\\nGlobal Max:\", global_max, \"at index\", max_index)\n",
        "print(\"Global Min:\", global_min, \"at index\", min_index)\n"
      ]
    },
    {
      "cell_type": "code",
      "source": [
        "import numpy as np\n",
        "import matplotlib.pyplot as plt\n",
        "\n",
        "image = np.random.randint(0, 256, size=(3, 3, 3), dtype=np.uint8)\n",
        "\n",
        "red_channel = image[:, :, 0]\n",
        "green_channel = image[:, :, 1]\n",
        "blue_channel = image[:, :, 2]\n",
        "\n",
        "avg_red = np.mean(red_channel)\n",
        "avg_green = np.mean(green_channel)\n",
        "avg_blue = np.mean(blue_channel)\n",
        "\n",
        "brightened_image = np.clip(image + 50, 0, 255).astype(np.uint8)\n",
        "\n",
        "print(\"Original Image Array:\\n\", image)\n",
        "print(\"\\nRed Channel:\\n\", red_channel)\n",
        "print(\"Green Channel:\\n\", green_channel)\n",
        "print(\"Blue Channel:\\n\", blue_channel)\n",
        "\n",
        "print(\"\\nAverage Intensities - Red:\", avg_red, \"Green:\", avg_green, \"Blue:\", avg_blue)\n",
        "print(\"\\nBrightened Image Array:\\n\", brightened_image)\n",
        "\n",
        "plt.subplot(1, 2, 1)\n",
        "plt.imshow(image)\n",
        "plt.title(\"Original Image\")\n",
        "plt.axis('off')\n",
        "\n",
        "plt.subplot(1, 2, 2)\n",
        "plt.imshow(brightened_image)\n",
        "plt.title(\"Brightened Image\")\n",
        "plt.axis('off')\n",
        "\n",
        "plt.show()\n"
      ],
      "metadata": {
        "colab": {
          "base_uri": "https://localhost:8080/",
          "height": 978
        },
        "id": "KDJNqeZWh0Y-",
        "outputId": "0b820189-bfe5-49d4-e2b8-94bb78fc2478"
      },
      "execution_count": null,
      "outputs": [
        {
          "output_type": "stream",
          "name": "stdout",
          "text": [
            "Original Image Array:\n",
            " [[[ 81  56 228]\n",
            "  [ 85 241 253]\n",
            "  [ 76  37 254]]\n",
            "\n",
            " [[ 15   0 152]\n",
            "  [140 170 199]\n",
            "  [ 76 126 139]]\n",
            "\n",
            " [[255  65 132]\n",
            "  [ 34 175  73]\n",
            "  [147 148  66]]]\n",
            "\n",
            "Red Channel:\n",
            " [[ 81  85  76]\n",
            " [ 15 140  76]\n",
            " [255  34 147]]\n",
            "Green Channel:\n",
            " [[ 56 241  37]\n",
            " [  0 170 126]\n",
            " [ 65 175 148]]\n",
            "Blue Channel:\n",
            " [[228 253 254]\n",
            " [152 199 139]\n",
            " [132  73  66]]\n",
            "\n",
            "Average Intensities - Red: 101.0 Green: 113.11111111111111 Blue: 166.22222222222223\n",
            "\n",
            "Brightened Image Array:\n",
            " [[[131 106  22]\n",
            "  [135  35  47]\n",
            "  [126  87  48]]\n",
            "\n",
            " [[ 65  50 202]\n",
            "  [190 220 249]\n",
            "  [126 176 189]]\n",
            "\n",
            " [[ 49 115 182]\n",
            "  [ 84 225 123]\n",
            "  [197 198 116]]]\n"
          ]
        },
        {
          "output_type": "display_data",
          "data": {
            "text/plain": [
              "<Figure size 640x480 with 2 Axes>"
            ],
            "image/png": "[encoded data removed]"
          },
          "metadata": {}
        }
      ]
    }
  ]
}