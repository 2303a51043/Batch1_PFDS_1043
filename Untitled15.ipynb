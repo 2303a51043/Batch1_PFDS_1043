{
  "nbformat": 4,
  "nbformat_minor": 0,
  "metadata": {
    "colab": {
      "provenance": [],
      "authorship_tag": "ABX9TyNZyu9B5fwfpWP4znvHS0GD",
      "include_colab_link": true
    },
    "kernelspec": {
      "name": "python3",
      "display_name": "Python 3"
    },
    "language_info": {
      "name": "python"
    }
  },
  "cells": [
    {
      "cell_type": "markdown",
      "metadata": {
        "id": "view-in-github",
        "colab_type": "text"
      },
      "source": [
        "<a href=\"https://colab.research.google.com/github/2303a51043/Batch1_PFDS_1043/blob/main/Untitled15.ipynb\" target=\"_parent\"><img src=\"https://colab.research.google.com/assets/colab-badge.svg\" alt=\"Open In Colab\"/></a>"
      ]
    },
    {
      "cell_type": "code",
      "execution_count": 8,
      "metadata": {
        "colab": {
          "base_uri": "https://localhost:8080/"
        },
        "id": "4F2RUdwSB2jv",
        "outputId": "e588b32e-8904-4b2d-883e-8013f741fa27"
      },
      "outputs": [
        {
          "output_type": "stream",
          "name": "stdout",
          "text": [
            "Original DataFrame\n",
            "    Name   Age  Marks\n",
            "0   Ravi  25.0   85.0\n",
            "1   Neha   NaN   90.0\n",
            "2  Kiran  30.0    NaN\n",
            "3   Sita  28.0   92.0\n",
            "\n",
            "Check for Missing values\n",
            "    Name    Age  Marks\n",
            "0  False  False  False\n",
            "1  False   True  False\n",
            "2  False  False   True\n",
            "3  False  False  False\n"
          ]
        }
      ],
      "source": [
        "import pandas as pd\n",
        "import numpy as np\n",
        "\n",
        "data = {\n",
        "    'Name': ['Ravi', 'Neha', 'Kiran', 'Sita'],\n",
        "    'Age': [25, np.nan, 30, 28],\n",
        "    'Marks': [85, 90, np.nan, 92]\n",
        "}\n",
        "\n",
        "df = pd.DataFrame(data)\n",
        "\n",
        "print(\"Original DataFrame\")\n",
        "print(df)\n",
        "\n",
        "print(\"\\nCheck for Missing values\")\n",
        "print(df.isnull())\n"
      ]
    },
    {
      "cell_type": "code",
      "source": [
        "# dropping\n",
        "df_dropped = df.dropna()\n",
        "print(\"After Dropping Rows with NaN\")\n",
        "print(df_dropped)\n"
      ],
      "metadata": {
        "colab": {
          "base_uri": "https://localhost:8080/"
        },
        "id": "RzYgoO5wDj50",
        "outputId": "c9a8a1c1-95ab-40a9-ef45-6b85e5d2fc91"
      },
      "execution_count": 10,
      "outputs": [
        {
          "output_type": "stream",
          "name": "stdout",
          "text": [
            "After Dropping Rows with NaN\n",
            "   Name   Age  Marks\n",
            "0  Ravi  25.0   85.0\n",
            "3  Sita  28.0   92.0\n"
          ]
        }
      ]
    },
    {
      "cell_type": "code",
      "source": [
        "# Fill Missing Values with 0\n",
        "df_filled = df.fillna(0)\n",
        "print(\"Filled with 0\")\n",
        "print(df_filled)\n",
        "\n"
      ],
      "metadata": {
        "colab": {
          "base_uri": "https://localhost:8080/"
        },
        "id": "pixKabAPERvk",
        "outputId": "324f7ea8-e1e8-4891-a7db-5fab3c6d9420"
      },
      "execution_count": 14,
      "outputs": [
        {
          "output_type": "stream",
          "name": "stdout",
          "text": [
            "Filled with 0\n",
            "    Name        Age  Marks\n",
            "0   Ravi  25.000000   85.0\n",
            "1   Neha  27.666667   90.0\n",
            "2  Kiran  30.000000   89.0\n",
            "3   Sita  28.000000   92.0\n"
          ]
        }
      ]
    },
    {
      "cell_type": "code",
      "source": [
        "df['Age']=df['Age'].fillna(df['Age'].mean())\n",
        "df['Marks']=df['Marks'].fillna(df['Marks'].mean())\n",
        "print(df)"
      ],
      "metadata": {
        "colab": {
          "base_uri": "https://localhost:8080/"
        },
        "id": "oZc6Tfp8GyXv",
        "outputId": "634a6e9b-de13-41f1-a138-1f462227bf62"
      },
      "execution_count": 16,
      "outputs": [
        {
          "output_type": "stream",
          "name": "stdout",
          "text": [
            "    Name        Age  Marks\n",
            "0   Ravi  25.000000   85.0\n",
            "1   Neha  27.666667   90.0\n",
            "2  Kiran  30.000000   89.0\n",
            "3   Sita  28.000000   92.0\n"
          ]
        }
      ]
    },
    {
      "cell_type": "code",
      "source": [
        "import pandas as pd\n",
        "\n",
        "# Handling duplicates\n",
        "data = {\n",
        "    'ID': [1, 2, 2, 3, 4, 4],\n",
        "    'Name': ['Ravi', 'Neha', 'Kiran', 'Sita', 'Amit', 'Raj'],  # 6 names added\n",
        "    'Marks': [85, 90, 90, 92, 23, 26]\n",
        "}\n",
        "\n",
        "# Create DataFrame\n",
        "df = pd.DataFrame(data)\n",
        "\n",
        "print(\"Original DataFrame with duplicates:\")\n",
        "print(df)\n",
        "\n",
        "# Remove duplicate rows\n",
        "df_no_duplicates = df.drop_duplicates()\n",
        "print(\"\\nDataFrame after removing duplicates:\")\n",
        "print(df_no_duplicates)\n"
      ],
      "metadata": {
        "colab": {
          "base_uri": "https://localhost:8080/"
        },
        "id": "nZkHUmMiMBy3",
        "outputId": "4a11c71d-a871-4389-c747-418373e31810"
      },
      "execution_count": 18,
      "outputs": [
        {
          "output_type": "stream",
          "name": "stdout",
          "text": [
            "Original DataFrame with duplicates:\n",
            "   ID   Name  Marks\n",
            "0   1   Ravi     85\n",
            "1   2   Neha     90\n",
            "2   2  Kiran     90\n",
            "3   3   Sita     92\n",
            "4   4   Amit     23\n",
            "5   4    Raj     26\n",
            "\n",
            "DataFrame after removing duplicates:\n",
            "   ID   Name  Marks\n",
            "0   1   Ravi     85\n",
            "1   2   Neha     90\n",
            "2   2  Kiran     90\n",
            "3   3   Sita     92\n",
            "4   4   Amit     23\n",
            "5   4    Raj     26\n"
          ]
        }
      ]
    },
    {
      "cell_type": "code",
      "source": [
        "#remove duplicates\n",
        "df_no_duplicates=df.drop_duplicates()\n",
        "print(\"dataframe without duplicates\")\n",
        "print(df_no_duplicates)"
      ],
      "metadata": {
        "colab": {
          "base_uri": "https://localhost:8080/"
        },
        "id": "-Lgo3Oy9QJ5v",
        "outputId": "1cbaf1c7-6043-4d1f-9fe2-b6552c7641e8"
      },
      "execution_count": 20,
      "outputs": [
        {
          "output_type": "stream",
          "name": "stdout",
          "text": [
            "dataframe without duplicates\n",
            "   ID   Name  Marks\n",
            "0   1   Ravi     85\n",
            "1   2   Neha     90\n",
            "2   2  Kiran     90\n",
            "3   3   Sita     92\n",
            "4   4   Amit     23\n",
            "5   4    Raj     26\n"
          ]
        }
      ]
    },
    {
      "cell_type": "code",
      "source": [
        "#changing the data types\n",
        "data = {\n",
        "           'ID':['1','2','3','4'],\n",
        "           'Marks':['85','90','78','92']\n",
        "       }\n",
        "df=pd.DataFrame(data)\n",
        "print(\"Original DataFrame\")\n",
        "print(df.dtypes)"
      ],
      "metadata": {
        "colab": {
          "base_uri": "https://localhost:8080/"
        },
        "id": "TmSKG6zgHrTK",
        "outputId": "e98cf026-3ae1-4262-c55b-e479615b85de"
      },
      "execution_count": 25,
      "outputs": [
        {
          "output_type": "stream",
          "name": "stdout",
          "text": [
            "Original DataFrame\n",
            "ID       object\n",
            "Marks    object\n",
            "dtype: object\n"
          ]
        }
      ]
    },
    {
      "cell_type": "code",
      "source": [
        "#applying transformations\n",
        "df['Marks']=df['Marks'].astype(int)\n",
        "df['Marks']=df['Marks'].apply(lambda x :x+5)\n",
        "print(\"After adding Bonus Marks\")\n",
        "print(df)"
      ],
      "metadata": {
        "colab": {
          "base_uri": "https://localhost:8080/"
        },
        "id": "2fV6f8SpI0dU",
        "outputId": "14f2f01a-ab13-43fb-c5dc-29c8f063d0d1"
      },
      "execution_count": 28,
      "outputs": [
        {
          "output_type": "stream",
          "name": "stdout",
          "text": [
            "After adding Bonus Marks\n",
            "  ID  Marks\n",
            "0  1     90\n",
            "1  2     95\n",
            "2  3     83\n",
            "3  4     97\n"
          ]
        }
      ]
    },
    {
      "cell_type": "code",
      "source": [
        "#normilazation of marks\n",
        "df['Marks_normalized']=(df['Marks']-df['Marks'].min())/(df['Marks'].max()-df['Marks'].min())\n",
        "print(\"After normalization\")\n",
        "print(df)"
      ],
      "metadata": {
        "colab": {
          "base_uri": "https://localhost:8080/"
        },
        "id": "OmvheF47JdVm",
        "outputId": "3d6738de-35b5-4056-86df-2fc1430d9b43"
      },
      "execution_count": 31,
      "outputs": [
        {
          "output_type": "stream",
          "name": "stdout",
          "text": [
            "After normalization\n",
            "  ID  Marks  Marks_normalized\n",
            "0  1     90          0.500000\n",
            "1  2     95          0.857143\n",
            "2  3     83          0.000000\n",
            "3  4     97          1.000000\n"
          ]
        }
      ]
    },
    {
      "cell_type": "code",
      "source": [],
      "metadata": {
        "id": "NckNaCNoKmAG"
      },
      "execution_count": null,
      "outputs": []
    }
  ]
}